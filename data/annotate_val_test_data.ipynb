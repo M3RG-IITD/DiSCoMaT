{
 "cells": [
  {
   "cell_type": "code",
   "execution_count": 1,
   "id": "85a4b011",
   "metadata": {},
   "outputs": [],
   "source": [
    "import os\n",
    "import pandas as pd\n",
    "from ipywidgets import Layout, Button, Box, VBox\n",
    "import ipywidgets as widgets\n",
    "from IPython.display import display, Markdown, clear_output\n",
    "import pickle\n",
    "from IPython.core.display import display, HTML\n",
    "import qgrid\n",
    "from sklearn.metrics import precision_recall_fscore_support\n",
    "import re"
   ]
  },
  {
   "cell_type": "code",
   "execution_count": 2,
   "id": "892ab2f5",
   "metadata": {},
   "outputs": [],
   "source": [
    "# val_tes_data = pickle.load(open('./val_test_data.pkl', 'rb'))\n",
    "# print(type(val_tes_data))\n",
    "# print(val_tes_data[0])"
   ]
  },
  {
   "cell_type": "code",
   "execution_count": 3,
   "id": "ae2329b7",
   "metadata": {},
   "outputs": [
    {
     "data": {
      "text/plain": [
       "264"
      ]
     },
     "execution_count": 3,
     "metadata": {},
     "output_type": "execute_result"
    }
   ],
   "source": [
    "'''\n",
    "1. Current val_test_data.pkl contains list of dictionaries, where each dict contains the whole table along with its info.\n",
    "2. Create a folder 'val_test_data' (or any other desired name), in which every table's data will be aved under the \n",
    "folder name obtained from its pii+ '__'+t_idx. Save the table info as 'init.pkl' inside the respective folder. \n",
    "Eg - home/val_test_data/S0022309300000053__2/init.pkl\n",
    "3. With the help of qgrid in this jupyter notebook, we are creating an interactive grid for manually annotating the tables \n",
    "(dataframes) and saving the updated table as 'final.pkl' in the same folder. Eg- home/val_test_data/S0022309300000053__2/final.pkl\n",
    "'''\n",
    "annotated_dir = './nominal_analyzed_annotated_piis/' #folder in which pickles of individual tables were dumped as init.pkl\n",
    "paths = []\n",
    "for f in os.listdir(annotated_dir):\n",
    "    paths.append(os.path.join(annotated_dir, f))\n",
    "paths = sorted(paths)\n",
    "tot = len(paths)\n",
    "tot"
   ]
  },
  {
   "cell_type": "code",
   "execution_count": 4,
   "id": "1b34e122",
   "metadata": {},
   "outputs": [],
   "source": [
    "def get_json_dict(i):\n",
    "    if os.path.exists(os.path.join(paths[i], 'new.pkl')):\n",
    "        d = pickle.load(open(os.path.join(paths[i], 'new.pkl'), 'rb'))\n",
    "    else:\n",
    "        d = pickle.load(open(os.path.join(paths[i], 'init.pkl'), 'rb'))\n",
    "    return d\n",
    "\n",
    "def show_comp_tables(i):\n",
    "    d = get_json_dict(i)\n",
    "    print(d.keys())\n",
    "    display(HTML(f'<a href=\"https://www.sciencedirect.com/science/article/pii/{d[\"pii\"]}\", target=\"_blank\">Paper Link</a>'))\n",
    "    print('Table: ', d['t_idx']+1)\n",
    "    r, c = d['num_rows'], d['num_cols']\n",
    "    table = d['act_table'].copy() \n",
    "    for i in range(r): \n",
    "        table[i] = [d['row_label'][i]] + table[i] \n",
    "    table = [['']] + table \n",
    "    for i in range(c): \n",
    "        table[0].append(d['col_label'][i])\n",
    "    return pd.DataFrame(table), d['caption'].replace('\\n', ' ') if d['caption'] else ''"
   ]
  },
  {
   "cell_type": "code",
   "execution_count": 5,
   "id": "cfb3178a",
   "metadata": {},
   "outputs": [],
   "source": [
    "i = 82\n",
    "qgrid_widget_0 = None\n",
    "\n",
    "prev_button = Button(description='Prev') \n",
    "prev_button.button_style = 'danger' \n",
    "buttons_info = widgets.Output() \n",
    "\n",
    "def display_things(caption):\n",
    "    global qgrid_widget_0 \n",
    "    print('------------------------------------------------')\n",
    "    print('Instructions:')\n",
    "    print('row_col_label: 1->composition, 2->constituent, 3->ID, 0->others')\n",
    "    print('------------------------------------------------')\n",
    "    print(f'Caption: {caption}')\n",
    "    display(qgrid_widget_0)\n",
    "    return\n",
    "\n",
    "def prev_button_display(b): \n",
    "    with buttons_info: \n",
    "        clear_output()\n",
    "        global i, qgrid_widget_0\n",
    "        i = (i + tot - 1) % tot\n",
    "        print('Index: ', i)\n",
    "        df0, caption = show_comp_tables(i)\n",
    "        #print(type(df0))\n",
    "        qgrid_widget_0 = qgrid.show_grid(df0) \n",
    "        display_things(caption) \n",
    "        next_button.description = f'Next ({(i+1)%tot})' \n",
    "        prev_button.description = f'Prev ({(i+tot-1)%tot})'\n",
    "        print(\"Table Type: 0-> NCT, 1-> SCC, 2->MCC-PI, 3->MCC-CI\")\n",
    "\n",
    "prev_button.on_click(prev_button_display) \n",
    "\n",
    "next_button = Button(description='Next')\n",
    "next_button.button_style = 'danger'\n",
    "\n",
    "def next_button_display(b): \n",
    "    with buttons_info:\n",
    "        clear_output()\n",
    "        global i, qgrid_widget_0\n",
    "        i = (i + 1) % tot\n",
    "        print('Index: ', i)\n",
    "        df0, caption = show_comp_tables(i)\n",
    "        qgrid_widget_0 = qgrid.show_grid(df0)\n",
    "        display_things(caption)\n",
    "        next_button.description = f'Next ({(i+1)%tot})'\n",
    "        prev_button.description = f'Prev ({(i+tot-1)%tot})' \n",
    "        print(\"Table Type: 0-> NCT, 1-> SCC, 2->MCC-PI, 3->MCC-CI\")\n",
    "        \n",
    "next_button.on_click(next_button_display)\n",
    "\n",
    "save_button = Button(description='Save')\n",
    "save_button.button_style = 'warning'\n",
    "\n",
    "def save_button_display(b): \n",
    "    with buttons_info:\n",
    "        global i, qgrid_widget_0\n",
    "        d = get_json_dict(i)\n",
    "        assert d['act_table'] == qgrid_widget_0.get_changed_df().iloc[1:, 1:].values.tolist() #why assert is used?\n",
    "        d['row_label'] = qgrid_widget_0.get_changed_df().iloc[1:, 0].values.tolist()\n",
    "        d['col_label'] = qgrid_widget_0.get_changed_df().iloc[0, 1:].values.tolist()\n",
    "        d['row_label'], d['col_label'] = list(map(int, d['row_label'])), list(map(int, d['col_label']))\n",
    "        d['new_table_type'] = T.value\n",
    "        pickle.dump(d, open(os.path.join(paths[i], 'new.pkl'), 'wb'))\n",
    "        print('saved!')\n",
    "\n",
    "save_button.on_click(save_button_display)\n",
    "\n",
    "H = widgets.HBox([prev_button, save_button, next_button])\n",
    "T = widgets.Dropdown(options=[0, 1, 2, 3], value=2, description='Table Type:',disabled=False)\n",
    "U = widgets.VBox([H, buttons_info, T, H])"
   ]
  },
  {
   "cell_type": "code",
   "execution_count": 6,
   "id": "2b60c125",
   "metadata": {},
   "outputs": [
    {
     "data": {
      "application/vnd.jupyter.widget-view+json": {
       "model_id": "f08bd239499f43f3bf3fc83b04f93674",
       "version_major": 2,
       "version_minor": 0
      },
      "text/plain": [
       "VBox(children=(HBox(children=(Button(button_style='danger', description='Prev', style=ButtonStyle()), Button(b…"
      ]
     },
     "metadata": {},
     "output_type": "display_data"
    }
   ],
   "source": [
    "display(U)"
   ]
  },
  {
   "cell_type": "code",
   "execution_count": null,
   "id": "d7b34d21",
   "metadata": {},
   "outputs": [],
   "source": [
    "# annotations complete?\n",
    "remaining_idxs = []\n",
    "for idx, p in enumerate(paths):\n",
    "    if not os.path.exists(os.path.join(p, 'new.pkl')):\n",
    "        remaining_idxs.append(idx)\n",
    "if len(remaining_idxs) == 0:\n",
    "    print('Good job!')\n",
    "else:\n",
    "    print('Not so fast!')\n",
    "    print(f'{len(remaining_idxs)}/{tot} annotations left. :(') \n",
    "    print(f'Remaining idxs: {remaining_idxs}')"
   ]
  },
  {
   "cell_type": "code",
   "execution_count": null,
   "id": "fa1ed8d9",
   "metadata": {},
   "outputs": [],
   "source": [
    "# row label and col label should contain either 1 or 2\n",
    "to_correct_idxs = []\n",
    "for idx, p in enumerate(paths): \n",
    "    if os.path.exists(os.path.join(p, 'new.pkl')):\n",
    "        d = pickle.load(open(os.path.join(p, 'new.pkl'), 'rb'))\n",
    "        for k in ['row_label', 'col_label']:\n",
    "            print(idx)\n",
    "            print(d.keys())\n",
    "            \n",
    "            #if you accidentally label as 4,5,6 etc OR composition and compound cant be on the same side\n",
    "            if d[k].count(0) + d[k].count(1) + d[k].count(2) + d[k].count(3) != len(d[k]) or d[k].count(1) * d[k].count(2) > 0: \n",
    "                to_correct_idxs.append(idx)\n",
    "                break\n",
    "\n",
    "if len(to_correct_idxs) == 0:\n",
    "    print('Good job!')\n",
    "else:\n",
    "    print('Not so fast!')\n",
    "    print(f'{len(to_correct_idxs)}/{tot} corrections required. :(')\n",
    "    print(f'Idxs: {to_correct_idxs}')"
   ]
  },
  {
   "cell_type": "code",
   "execution_count": null,
   "id": "89448440",
   "metadata": {},
   "outputs": [],
   "source": [
    "# all comp tables and row col constraints\n",
    "# row_label and col_label both can't have the label 1 or 2\n",
    "to_correct_idxs = []\n",
    "for idx, p in enumerate(paths):\n",
    "    if os.path.exists(os.path.join(p, 'new.pkl')):\n",
    "        d = pickle.load(open(os.path.join(p, 'new.pkl'), 'rb'))\n",
    "        if d['row_label'].count(1) * d['col_label'].count(1) + d['row_label'].count(2) * d['col_label'].count(2) > 0:\n",
    "            to_correct_idxs.append(idx)\n",
    "\n",
    "if len(to_correct_idxs) == 0:\n",
    "    print('Good job!')\n",
    "else:\n",
    "    print('Not so fast!')\n",
    "    print(f'{len(to_correct_idxs)}/{tot} corrections required. :(')\n",
    "    print(f'Idxs: {to_correct_idxs}')"
   ]
  }
 ],
 "metadata": {
  "kernelspec": {
   "display_name": "Python 3",
   "language": "python",
   "name": "python3"
  },
  "language_info": {
   "codemirror_mode": {
    "name": "ipython",
    "version": 3
   },
   "file_extension": ".py",
   "mimetype": "text/x-python",
   "name": "python",
   "nbconvert_exporter": "python",
   "pygments_lexer": "ipython3",
   "version": "3.7.9"
  }
 },
 "nbformat": 4,
 "nbformat_minor": 5
}
